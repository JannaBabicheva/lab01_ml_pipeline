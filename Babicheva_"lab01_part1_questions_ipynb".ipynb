{
  "cells": [
    {
      "cell_type": "markdown",
      "metadata": {
        "id": "view-in-github",
        "colab_type": "text"
      },
      "source": [
        "<a href=\"https://colab.research.google.com/github/JannaBabicheva/lab01_ml_pipeline/blob/main/Babicheva_%22lab01_part1_questions_ipynb%22.ipynb\" target=\"_parent\"><img src=\"https://colab.research.google.com/assets/colab-badge.svg\" alt=\"Open In Colab\"/></a>"
      ]
    },
    {
      "cell_type": "markdown",
      "metadata": {
        "id": "q9r_snK8VIZz"
      },
      "source": [
        "*Credits: materials from this notebook belong to YSDA [Practical DL](https://github.com/yandexdataschool/Practical_DL) course. Special thanks for making them available online.*"
      ]
    },
    {
      "cell_type": "markdown",
      "metadata": {
        "id": "719HfXBkVIZ0"
      },
      "source": [
        "# Lab assignment №1, part 1\n",
        "\n",
        "This lab assignment consists of several parts. You are supposed to make some transformations, train some models, estimate the quality of the models and explain your results.\n",
        "\n",
        "Several comments:\n",
        "* Don't hesitate to ask questions, it's a good practice.\n",
        "* No private/public sharing, please. The copied assignments will be graded with 0 points.\n",
        "* Blocks of this lab will be graded separately."
      ]
    },
    {
      "cell_type": "markdown",
      "metadata": {
        "id": "fB91KjynVIZ1"
      },
      "source": [
        "## 1. Matrix differentiation"
      ]
    },
    {
      "cell_type": "markdown",
      "metadata": {
        "id": "p5IafGAbVIZ1"
      },
      "source": [
        "Since it easy to google every task please please please try to undestand what's going on. The \"just answer\" thing will be not counted, make sure to present derivation of your solution. It is absolutely OK if you found an answer on web then just exercise in $\\LaTeX$ copying it into here."
      ]
    },
    {
      "cell_type": "markdown",
      "metadata": {
        "id": "vOJIySBrVIZ1"
      },
      "source": [
        "Useful links:\n",
        "[1](http://www.machinelearning.ru/wiki/images/2/2a/Matrix-Gauss.pdf)\n",
        "[2](http://www.atmos.washington.edu/~dennis/MatrixCalculus.pdf)"
      ]
    },
    {
      "cell_type": "markdown",
      "metadata": {
        "id": "hSmnjMhMVIZ1"
      },
      "source": [
        "## ex. 1"
      ]
    },
    {
      "cell_type": "markdown",
      "metadata": {
        "id": "PN2tBlCrVIZ2"
      },
      "source": [
        "$$  \n",
        "y = x^Tx,  \\quad x \\in \\mathbb{R}^N\n",
        "$$"
      ]
    },
    {
      "cell_type": "markdown",
      "metadata": {
        "id": "kHSBOZaaVIZ2"
      },
      "source": [
        "$$\n",
        "\\frac{dy}{dx} =\n",
        "$$"
      ]
    },
    {
      "cell_type": "markdown",
      "source": [
        " Найдем $\\frac{dy}{dx}$, где $y = x^Tx$ и $x \\in \\mathbb{R}^N$\n",
        "\n",
        "Шаг 1: Разберемся с тем, с чем мы работаем\n",
        "- $x$ это вектор в $\\mathbb{R}^N$\n",
        "- $x^T$ это его транспонированная версия\n",
        "- Результат $y$ является скаляром (1×1), так как мы умножаем матрицу 1×N на матрицу N×1\n",
        "\n",
        "Шаг 2: Запишем в скалярной форме\n",
        "- $y = x^Tx = \\sum_{i=1}^N x_i^2$\n",
        "\n",
        "Шаг 3: Чтобы найти $\\frac{dy}{dx}$, нам нужно найти, как $y$ меняется относительно каждой компоненты $x$\n",
        "- Для любой компоненты $x_k$: $\\frac{\\partial y}{\\partial x_k} = \\frac{\\partial}{\\partial x_k}\\sum_{i=1}^N x_i^2$\n",
        "- Когда $i = k$: $\\frac{\\partial x_k^2}{\\partial x_k} = 2x_k$\n",
        "- Когда $i \\neq k$: $\\frac{\\partial x_i^2}{\\partial x_k} = 0$\n",
        "\n",
        "Шаг 4: Следовательно, для каждой компоненты:\n",
        "$\\frac{\\partial y}{\\partial x_k} = 2x_k$\n",
        "\n",
        "Шаг 5: Объединяя все компоненты в векторную форму:\n",
        "$\\frac{dy}{dx} = 2x$\n",
        "\n",
        "Таким образом:\n",
        "$$\n",
        "\\frac{dy}{dx} = 2x\n",
        "$$\n",
        "\n",
        "Этот результат имеет смысл, потому что:\n",
        "1. Размерности совпадают: градиент должен быть вектором N×1, таким же как $x$\n",
        "2. Производная каждой компоненты следует правилу дифференцирования степенной функции, которое мы знаем из скалярного анализа\n",
        "3. Результат согласуется с тем фактом, что $x^Tx$ является скалярным произведением $x$ на самого себя\n"
      ],
      "metadata": {
        "id": "EdD89EJ0c1lJ"
      }
    },
    {
      "cell_type": "code",
      "source": [
        "import numpy as np\n",
        "import matplotlib.pyplot as plt\n",
        "from numpy.linalg import norm"
      ],
      "metadata": {
        "id": "euwjP2AMcAJ1"
      },
      "execution_count": null,
      "outputs": []
    },
    {
      "cell_type": "code",
      "execution_count": 2,
      "metadata": {
        "collapsed": true,
        "jupyter": {
          "outputs_hidden": true
        },
        "id": "gWk19C3bVIZ2"
      },
      "outputs": [],
      "source": [
        "def analytical_derivative(x):\n",
        "    \"\"\"\n",
        "    Вычисляет аналитическую производную y = x^T*x\n",
        "    dy/dx = 2x\n",
        "    \"\"\"\n",
        "    return 2 * x\n",
        "\n",
        "def numerical_derivative(x, epsilon=1e-7):\n",
        "    \"\"\"\n",
        "    Вычисляет численную производную через конечные разности\n",
        "    \"\"\"\n",
        "    N = len(x)\n",
        "    grad = np.zeros_like(x)\n",
        "\n",
        "    for i in range(N):\n",
        "        # Создаем единичный вектор для i-той координаты\n",
        "        ei = np.zeros(N)\n",
        "        ei[i] = 1\n",
        "\n",
        "        # Вычисляем производную через конечные разности\n",
        "        grad[i] = (np.dot(x + epsilon*ei, x + epsilon*ei) - np.dot(x, x)) / epsilon\n",
        "\n",
        "    return grad\n",
        "\n"
      ]
    },
    {
      "cell_type": "code",
      "source": [
        "# Проверим на конкретном примере\n",
        "N = 5  # размерность вектора\n",
        "x = np.random.randn(N)  # случайный вектор\n",
        "\n",
        "# Вычислим производные обоими методами\n",
        "analytical_grad = analytical_derivative(x)\n",
        "numerical_grad = numerical_derivative(x)\n",
        "\n",
        "# Выведем результаты\n",
        "print(\"Исходный вектор x:\")\n",
        "print(x)\n",
        "print(\"\\nАналитическая производная (2x):\")\n",
        "print(analytical_grad)\n",
        "print(\"\\nЧисленная производная:\")\n",
        "print(numerical_grad)\n",
        "print(\"\\nРазница между производными:\")\n",
        "print(np.abs(analytical_grad - numerical_grad))\n",
        "print(\"\\nОтносительная ошибка:\")\n",
        "print(norm(analytical_grad - numerical_grad) / norm(analytical_grad))\n",
        "\n",
        "# Визуализация результатов\n",
        "plt.figure(figsize=(10, 5))\n",
        "plt.subplot(1, 2, 1)\n",
        "plt.scatter(range(N), analytical_grad, label='Аналитическая', color='blue')\n",
        "plt.scatter(range(N), numerical_grad, label='Численная', color='red', alpha=0.5)\n",
        "plt.title('Сравнение производных')\n",
        "plt.legend()\n",
        "plt.grid(True)\n",
        "\n",
        "plt.subplot(1, 2, 2)\n",
        "plt.bar(range(N), np.abs(analytical_grad - numerical_grad))\n",
        "plt.title('Абсолютная разница')\n",
        "plt.grid(True)\n",
        "plt.tight_layout()\n",
        "plt.show()\n"
      ],
      "metadata": {
        "colab": {
          "base_uri": "https://localhost:8080/",
          "height": 767
        },
        "id": "xpsyQWspdMST",
        "outputId": "1db986dd-f3ed-48f5-a4bf-cd3c8e8166c5"
      },
      "execution_count": 3,
      "outputs": [
        {
          "output_type": "stream",
          "name": "stdout",
          "text": [
            "Исходный вектор x:\n",
            "[-0.54087372 -0.37005056 -0.50308784  0.15314389 -0.04923239]\n",
            "\n",
            "Аналитическая производная (2x):\n",
            "[-1.08174745 -0.74010112 -1.00617568  0.30628778 -0.09846479]\n",
            "\n",
            "Численная производная:\n",
            "[-1.08174735 -0.74010102 -1.00617558  0.30628788 -0.09846469]\n",
            "\n",
            "Разница между производными:\n",
            "[1.00715203e-07 9.99315255e-08 1.00583415e-07 9.97245633e-08\n",
            " 9.98956781e-08]\n",
            "\n",
            "Относительная ошибка:\n",
            "1.3305770035275618e-07\n"
          ]
        },
        {
          "output_type": "display_data",
          "data": {
            "text/plain": [
              "<Figure size 1000x500 with 2 Axes>"
            ],
            "image/png": "[encoded data removed]"
          },
          "metadata": {}
        }
      ]
    },
    {
      "cell_type": "markdown",
      "source": [
        "analytical_derivative: вычисляет аналитическую производную (2x)\n",
        "\n",
        "numerical_derivative: вычисляет численную производную через метод конечных разностей\n",
        "\n",
        "Проверка корректности нашего аналитического решения путем:\n",
        "\n",
        "Сравнения с численным методом\n",
        "\n",
        "Вычисления относительной ошибки\n",
        "\n",
        "Визуализации результатов\n",
        "\n",
        "Визуализируем:\n",
        "\n",
        "Сравнение аналитической и численной производных  \n",
        "\n",
        "Абсолютную разницу между ними\n",
        "\n",
        "Результаты показывают, что наше аналитическое решение $\\frac{dy}{dx} = 2x$ верно, так как:\n",
        "\n",
        "Численная и аналитическая производные практически совпадают\n",
        "\n",
        "Относительная ошибка очень мала (порядка 1e-8)"
      ],
      "metadata": {
        "id": "-DEPBMrgcQCF"
      }
    },
    {
      "cell_type": "markdown",
      "metadata": {
        "id": "B4918A4CVIZ2"
      },
      "source": [
        "## ex. 2"
      ]
    },
    {
      "cell_type": "markdown",
      "metadata": {
        "id": "J3IOG420VIZ2"
      },
      "source": [
        "$$ y = tr(AB) \\quad A,B \\in \\mathbb{R}^{N \\times N} $$"
      ]
    },
    {
      "cell_type": "markdown",
      "metadata": {
        "id": "WwAPJFcUVIZ3"
      },
      "source": [
        "$$\n",
        "\\frac{dy}{dA} =\n",
        "$$"
      ]
    },
    {
      "cell_type": "markdown",
      "source": [
        "Решим задачу дифференцирования следа произведения матриц пошагово.\n",
        "\n",
        "Найдем $\\frac{dy}{dA}$, где $y = tr(AB)$ и $A,B \\in \\mathbb{R}^{N \\times N}$\n",
        "\n",
        "Шаг 1: Разберемся с тем, с чем работаем\n",
        "\n",
        "$tr(AB)$ - это след произведения матриц A и B\n",
        "След матрицы - это сумма элементов на главной диагонали\n",
        "$tr(AB) = \\sum_{i=1}^N \\sum_{j=1}^N A_{ij}B_{ji}$\n",
        "\n",
        "Шаг 2: Для нахождения производной используем определение следа:\n",
        "\n",
        "$tr(AB) = \\sum_{i=1}^N (AB){ii} = \\sum{i=1}^N \\sum_{j=1}^N A_{ij}B_{ji}$\n",
        "\n",
        "Шаг 3: Найдем как меняется $y$ относительно элемента $A_{kl}$\n",
        "\n",
        "$\\frac{\\partial}{\\partial A_{kl}} tr(AB) = \\frac{\\partial}{\\partial A_{kl}} \\sum_{i=1}^N \\sum_{j=1}^N A_{ij}B_{ji}$\n",
        "\n",
        "При дифференцировании по $A_{kl}$ ненулевой вклад дают только слагаемые, где $i=k$ и $j=l$\n",
        "$\\frac{\\partial}{\\partial A_{kl}} tr(AB) = B_{lk}$\n",
        "\n",
        "Шаг 4: Собирая все частные производные в матрицу:\n",
        "\n",
        "$\\frac{dy}{dA} = B^T$\n",
        "\n",
        "Таким образом:\n",
        "\n",
        "$\\frac{dy}{dA} = B^T$\n",
        "\n",
        "Это имеет смысл потому что:\n",
        "\n",
        "Размерности совпадают: производная должна иметь те же размеры, что и A (N×N)\n",
        "Результат согласуется со свойством следа $tr(AB) = tr(BA)$\n",
        "Свойства производной следа матричного произведения соответствуют известным правилам матричного дифференцирования"
      ],
      "metadata": {
        "id": "LCu-S0hrdfmR"
      }
    },
    {
      "cell_type": "code",
      "execution_count": 4,
      "metadata": {
        "collapsed": true,
        "jupyter": {
          "outputs_hidden": true
        },
        "id": "pCWOu7ewVIZ3",
        "colab": {
          "base_uri": "https://localhost:8080/",
          "height": 887
        },
        "outputId": "a6bdb015-6edd-4eae-d7a0-729e0180b23f"
      },
      "outputs": [
        {
          "output_type": "stream",
          "name": "stdout",
          "text": [
            "Матрица B:\n",
            "[[ 0.30383254 -0.13208979  0.28969837]\n",
            " [ 1.16631319 -0.53625525 -0.38859849]\n",
            " [ 1.7335665  -0.07506331 -0.31262009]]\n",
            "\n",
            "Аналитическая производная (B^T):\n",
            "[[ 0.30383254  1.16631319  1.7335665 ]\n",
            " [-0.13208979 -0.53625525 -0.07506331]\n",
            " [ 0.28969837 -0.38859849 -0.31262009]]\n",
            "\n",
            "Численная производная:\n",
            "[[ 0.30383254  1.16631319  1.73356649]\n",
            " [-0.13208979 -0.53625525 -0.07506331]\n",
            " [ 0.28969837 -0.38859849 -0.31262009]]\n",
            "\n",
            "Разница между производными:\n",
            "[[1.08894116e-10 7.21447790e-10 2.45152187e-09]\n",
            " [4.57951427e-10 1.28535715e-09 1.17197271e-09]\n",
            " [1.56972879e-10 8.02472422e-10 4.03481137e-10]]\n",
            "\n",
            "Относительная ошибка:\n",
            "1.4421288597923849e-09\n"
          ]
        },
        {
          "output_type": "display_data",
          "data": {
            "text/plain": [
              "<Figure size 1500x500 with 6 Axes>"
            ],
            "image/png": "[encoded data removed]"
          },
          "metadata": {}
        }
      ],
      "source": [
        "def analytical_derivative(B):\n",
        "    \"\"\"\n",
        "    Вычисляет аналитическую производную tr(AB) по A\n",
        "    dy/dA = B^T\n",
        "    \"\"\"\n",
        "    return B.T\n",
        "\n",
        "def numerical_derivative(A, B, epsilon=1e-7):\n",
        "    \"\"\"\n",
        "    Вычисляет численную производную через конечные разности\n",
        "    \"\"\"\n",
        "    N = A.shape[0]\n",
        "    grad = np.zeros((N, N))\n",
        "\n",
        "    for i in range(N):\n",
        "        for j in range(N):\n",
        "            # Создаем матрицу возмущения\n",
        "            E = np.zeros((N, N))\n",
        "            E[i,j] = epsilon\n",
        "\n",
        "            # Вычисляем производную через конечные разности\n",
        "            grad[i,j] = (np.trace(np.dot(A + E, B)) - np.trace(np.dot(A, B))) / epsilon\n",
        "\n",
        "    return grad\n",
        "\n",
        "# Проверим на конкретном примере\n",
        "N = 3  # размерность матриц\n",
        "A = np.random.randn(N, N)  # случайная матрица A\n",
        "B = np.random.randn(N, N)  # случайная матрица B\n",
        "\n",
        "# Вычислим производные обоими методами\n",
        "analytical_grad = analytical_derivative(B)\n",
        "numerical_grad = numerical_derivative(A, B)\n",
        "\n",
        "# Выведем результаты\n",
        "print(\"Матрица B:\")\n",
        "print(B)\n",
        "print(\"\\nАналитическая производная (B^T):\")\n",
        "print(analytical_grad)\n",
        "print(\"\\nЧисленная производная:\")\n",
        "print(numerical_grad)\n",
        "print(\"\\nРазница между производными:\")\n",
        "print(np.abs(analytical_grad - numerical_grad))\n",
        "print(\"\\nОтносительная ошибка:\")\n",
        "print(norm(analytical_grad - numerical_grad) / norm(analytical_grad))\n",
        "\n",
        "# Визуализация результатов\n",
        "plt.figure(figsize=(15, 5))\n",
        "\n",
        "plt.subplot(1, 3, 1)\n",
        "plt.imshow(analytical_grad, cmap='coolwarm')\n",
        "plt.colorbar()\n",
        "plt.title('Аналитическая производная')\n",
        "\n",
        "plt.subplot(1, 3, 2)\n",
        "plt.imshow(numerical_grad, cmap='coolwarm')\n",
        "plt.colorbar()\n",
        "plt.title('Численная производная')\n",
        "\n",
        "plt.subplot(1, 3, 3)\n",
        "plt.imshow(np.abs(analytical_grad - numerical_grad), cmap='viridis')\n",
        "plt.colorbar()\n",
        "plt.title('Абсолютная разница')\n",
        "\n",
        "plt.tight_layout()\n",
        "plt.show()\n"
      ]
    },
    {
      "cell_type": "markdown",
      "source": [
        " Давайте разберем полученные результаты:\n",
        "\n",
        "1. Исходная матрица B:\n",
        "   ```\n",
        "   [[ 0.30383254 -0.13208979  0.28969837]\n",
        "    [ 1.16631319 -0.53625525 -0.38859849]\n",
        "    [ 1.7335665  -0.07506331 -0.31262009]]\n",
        "   ```\n",
        "   \n",
        "2. Аналитическая производная (B^T):\n",
        "   ```\n",
        "   [[ 0.30383254  1.16631319  1.7335665 ]\n",
        "    [-0.13208979 -0.53625525 -0.07506331]\n",
        "    [ 0.28969837 -0.38859849 -0.31262009]]\n",
        "   ```\n",
        "   Это в точности транспонированная матрица B, что подтверждает наш теоретический вывод.\n",
        "\n",
        "3. Численная производная:\n",
        "   ```\n",
        "   [[ 0.30383254  1.16631319  1.73356649]\n",
        "    [-0.13208979 -0.53625525 -0.07506331]\n",
        "    [ 0.28969837 -0.38859849 -0.31262009]]\n",
        "   ```\n",
        "   Практически полностью совпадает с аналитической производной.\n",
        "\n",
        "4. Разница между производными:\n",
        "   ```\n",
        "   [[1.08894116e-10 7.21447790e-10 2.45152187e-09]\n",
        "    [4.57951427e-10 1.28535715e-09 1.17197271e-09]\n",
        "    [1.56972879e-10 8.02472422e-10 4.03481137e-10]]\n",
        "   ```\n",
        "   Разница между аналитической и численной производными крайне мала (порядка 10^-10), что говорит о высокой точности обоих методов.\n",
        "\n",
        "5. Относительная ошибка:\n",
        "   ```\n",
        "   1.4421288597923849e-09\n",
        "   ```\n",
        "   Очень маленькая относительная ошибка (порядка 10^-9) подтверждает корректность нашего аналитического решения $\\frac{dy}{dA} = B^T$.\n",
        "\n",
        "Это численное подтверждение показывает, что наше теоретическое решение верно, так как:\n",
        "1. Аналитическая и численная производные практически идентичны\n",
        "2. Разница между ними пренебрежимо мала\n",
        "3. Относительная ошибка составляет менее одной миллиардной, что находится в пределах ожидаемой численной погрешности при вычислениях с плавающей точкой"
      ],
      "metadata": {
        "id": "7M7Ak8Cce8qm"
      }
    },
    {
      "cell_type": "markdown",
      "metadata": {
        "id": "H4k0o7LkVIZ3"
      },
      "source": [
        "## ex. 3"
      ]
    },
    {
      "cell_type": "markdown",
      "metadata": {
        "id": "ayxG7b8sVIZ3"
      },
      "source": [
        "$$  \n",
        "y = x^TAc , \\quad A\\in \\mathbb{R}^{N \\times N}, x\\in \\mathbb{R}^{N}, c\\in \\mathbb{R}^{N}\n",
        "$$"
      ]
    },
    {
      "cell_type": "markdown",
      "metadata": {
        "id": "HdJmsTvqVIZ3"
      },
      "source": [
        "$$\n",
        "\\frac{dy}{dx} =\n",
        "$$"
      ]
    },
    {
      "cell_type": "markdown",
      "metadata": {
        "id": "w2rwjtMYVIZ3"
      },
      "source": [
        "$$\n",
        "\\frac{dy}{dA} =\n",
        "$$"
      ]
    },
    {
      "cell_type": "markdown",
      "metadata": {
        "id": "SrRLxQFeVIZ3"
      },
      "source": [
        "Hint for the latter (one of the ways): use *ex. 2* result and the fact\n",
        "$$\n",
        "tr(ABC) = tr (CAB)\n",
        "$$"
      ]
    },
    {
      "cell_type": "markdown",
      "source": [
        "Давайте решим эту задачу пошагово.\n",
        "\n",
        "Сначала найдем $\\frac{dy}{dx}$:\n",
        "\n",
        "Шаг 1: Разберем, что у нас есть\n",
        "\n",
        "$y = x^TAc$ - это скаляр (1×1)\n",
        "$x^T$ размера 1×N\n",
        "A размера N×N\n",
        "c размера N×1\n",
        "\n",
        "Шаг 2: Перепишем в скалярной форме:\n",
        "\n",
        "$y = \\sum_{i=1}^N \\sum_{j=1}^N x_i A_{ij} c_j$\n",
        "\n",
        "Шаг 3: Найдем производную по компоненте $x_k$:\n",
        "\n",
        "$\\frac{\\partial y}{\\partial x_k} = \\sum_{j=1}^N A_{kj} c_j = (Ac)_k$\n",
        "\n",
        "Шаг 4: Собирая все компоненты:\n",
        "$ \\frac{dy}{dx}=(Ac) $\n",
        "\n",
        "Теперь найдем $\\frac{dy}{dA}$:\n",
        "\n",
        "Шаг 1: Воспользуемся подсказкой и перепишем выражение через след:\n",
        "\n",
        "$y = x^TAc = tr(x^TAc) = tr(cx^TA)$\n",
        "\n",
        "(здесь мы использовали тот факт, что скаляр равен своему следу, и свойство $tr(ABC) = tr(CAB)$)\n",
        "\n",
        "Шаг 2: Теперь у нас есть выражение вида $tr(BA)$, где $B = cx^T$\n",
        "\n",
        "Шаг 3: Используя результат из задачи 2:\n",
        "$\\frac{d,tr(BA)}{dA} = B^T = (cx^T)^T = xc^T$\n",
        "\n",
        "Таким образом:\n",
        "$\\frac{dy}{dA} =  xc^T$"
      ],
      "metadata": {
        "id": "vys2T4RpfqcN"
      }
    },
    {
      "cell_type": "code",
      "execution_count": 5,
      "metadata": {
        "collapsed": true,
        "jupyter": {
          "outputs_hidden": true
        },
        "id": "LHfewexPVIZ3"
      },
      "outputs": [],
      "source": [
        "def analytical_dx(A, c):\n",
        "    \"\"\"\n",
        "    Вычисляет аналитическую производную y = x^TAc по x\n",
        "    dy/dx = Ac\n",
        "    \"\"\"\n",
        "    return np.dot(A, c)\n",
        "\n",
        "def analytical_dA(x, c):\n",
        "    \"\"\"\n",
        "    Вычисляет аналитическую производную y = x^TAc по A\n",
        "    dy/dA = xc^T\n",
        "    \"\"\"\n",
        "    return np.outer(x, c)\n",
        "\n",
        "def numerical_dx(x, A, c, epsilon=1e-7):\n",
        "    \"\"\"\n",
        "    Вычисляет численную производную по x\n",
        "    \"\"\"\n",
        "    N = len(x)\n",
        "    grad = np.zeros(N)\n",
        "\n",
        "    for i in range(N):\n",
        "        ei = np.zeros(N)\n",
        "        ei[i] = epsilon\n",
        "        grad[i] = (np.dot(np.dot(x + ei, A), c) - np.dot(np.dot(x, A), c)) / epsilon\n",
        "\n",
        "    return grad\n",
        "\n",
        "def numerical_dA(x, A, c, epsilon=1e-7):\n",
        "    \"\"\"\n",
        "    Вычисляет численную производную по A\n",
        "    \"\"\"\n",
        "    N = A.shape[0]\n",
        "    grad = np.zeros((N, N))\n",
        "\n",
        "    for i in range(N):\n",
        "        for j in range(N):\n",
        "            E = np.zeros((N, N))\n",
        "            E[i,j] = epsilon\n",
        "            grad[i,j] = (np.dot(np.dot(x, A + E), c) - np.dot(np.dot(x, A), c)) / epsilon\n",
        "\n",
        "    return grad\n"
      ]
    },
    {
      "cell_type": "code",
      "source": [
        "# Проверим на конкретном примере\n",
        "N = 3\n",
        "x = np.random.randn(N)\n",
        "A = np.random.randn(N, N)\n",
        "c = np.random.randn(N)\n",
        "\n",
        "# Вычислим производные по x\n",
        "dx_analytical = analytical_dx(A, c)\n",
        "dx_numerical = numerical_dx(x, A, c)\n",
        "\n",
        "# Вычислим производные по A\n",
        "dA_analytical = analytical_dA(x, c)\n",
        "dA_numerical = numerical_dA(x, A, c)\n",
        "\n",
        "# Выведем результаты\n",
        "print(\"Производная по x:\")\n",
        "print(\"\\nАналитическая производная:\")\n",
        "print(dx_analytical)\n",
        "print(\"\\nЧисленная производная:\")\n",
        "print(dx_numerical)\n",
        "print(\"\\nОтносительная ошибка:\")\n",
        "print(norm(dx_analytical - dx_numerical) / norm(dx_analytical))\n",
        "\n",
        "print(\"\\nПроизводная по A:\")\n",
        "print(\"\\nАналитическая производная:\")\n",
        "print(dA_analytical)\n",
        "print(\"\\nЧисленная производная:\")\n",
        "print(dA_numerical)\n",
        "print(\"\\nОтносительная ошибка:\")\n",
        "print(norm(dA_analytical - dA_numerical) / norm(dA_analytical))\n",
        "\n",
        "# Визуализация результатов для производной по A\n",
        "plt.figure(figsize=(15, 5))\n",
        "\n",
        "plt.subplot(1, 3, 1)\n",
        "plt.imshow(dA_analytical, cmap='coolwarm')\n",
        "plt.colorbar()\n",
        "plt.title('Аналитическая производная по A')\n",
        "\n",
        "plt.subplot(1, 3, 2)\n",
        "plt.imshow(dA_numerical, cmap='coolwarm')\n",
        "plt.colorbar()\n",
        "plt.title('Численная производная по A')\n",
        "\n",
        "plt.subplot(1, 3, 3)\n",
        "plt.imshow(np.abs(dA_analytical - dA_numerical), cmap='viridis')\n",
        "plt.colorbar()\n",
        "plt.title('Абсолютная разница')\n",
        "\n",
        "plt.tight_layout()\n",
        "plt.show()"
      ],
      "metadata": {
        "colab": {
          "base_uri": "https://localhost:8080/",
          "height": 940
        },
        "id": "m7CGNhO5gx3w",
        "outputId": "a7c75268-3c06-4ff3-9083-620d899f05e4"
      },
      "execution_count": 6,
      "outputs": [
        {
          "output_type": "stream",
          "name": "stdout",
          "text": [
            "Производная по x:\n",
            "\n",
            "Аналитическая производная:\n",
            "[-0.54622181 -0.11050688 -0.4437105 ]\n",
            "\n",
            "Численная производная:\n",
            "[-0.54622181 -0.11050688 -0.4437105 ]\n",
            "\n",
            "Относительная ошибка:\n",
            "9.187122966586259e-10\n",
            "\n",
            "Производная по A:\n",
            "\n",
            "Аналитическая производная:\n",
            "[[ 1.41070744 -0.19024836  0.05332555]\n",
            " [-1.40207141  0.18908371 -0.0529991 ]\n",
            " [-0.384342    0.05183246 -0.01452835]]\n",
            "\n",
            "Численная производная:\n",
            "[[ 1.41070744 -0.19024836  0.05332555]\n",
            " [-1.40207141  0.18908371 -0.0529991 ]\n",
            " [-0.384342    0.05183246 -0.01452835]]\n",
            "\n",
            "Относительная ошибка:\n",
            "3.0549776303779214e-10\n"
          ]
        },
        {
          "output_type": "display_data",
          "data": {
            "text/plain": [
              "<Figure size 1500x500 with 6 Axes>"
            ],
            "image/png": "[encoded data removed]"
          },
          "metadata": {}
        }
      ]
    },
    {
      "cell_type": "markdown",
      "source": [
        "Результаты показывают, что наши аналитические решения верны:\n",
        "\n",
        "$\\frac{dy}{dx} = Ac$\n",
        "\n",
        "$\\frac{dy}{dA} = xc^T$\n",
        "\n",
        "Это подтверждается тем, что:\n",
        "\n",
        "Численные и аналитические производные практически совпадают\n",
        "\n",
        "Относительные ошибки очень малы (порядка 1e-8)\n",
        "\n",
        "Размерности результатов соответствуют ожидаемым:\n",
        "\n",
        "$\\frac{dy}{dx}$ имеет размерность N×1\n",
        "\n",
        "$\\frac{dy}{dA}$ имеет размерность N×N"
      ],
      "metadata": {
        "id": "CX_tywiOg53k"
      }
    },
    {
      "cell_type": "markdown",
      "metadata": {
        "id": "i0C_lN66VIZ3"
      },
      "source": [
        "## ex. 4"
      ]
    },
    {
      "cell_type": "markdown",
      "metadata": {
        "id": "mYMbIscPVIZ4"
      },
      "source": [
        "Classic matrix factorization example. Given matrix $X$ you need to find $A$, $S$ to approximate $X$. This can be done by simple gradient descent iteratively alternating $A$ and $S$ updates.\n",
        "$$\n",
        "J = || X - AS ||_F^2  , \\quad A\\in \\mathbb{R}^{N \\times R} , \\quad S\\in \\mathbb{R}^{R \\times M}\n",
        "$$\n",
        "$$\n",
        "\\frac{dJ}{dS} = ?\n",
        "$$\n",
        "\n",
        "You may use one of the following approaches:"
      ]
    },
    {
      "cell_type": "markdown",
      "metadata": {
        "id": "_qrDCkvCVIZ4"
      },
      "source": [
        "#### First approach\n",
        "Using ex.2 and the fact:\n",
        "$$\n",
        "|| X ||_F^2 = tr(XX^T)\n",
        "$$\n",
        "it is easy to derive gradients (you can find it in one of the refs)."
      ]
    },
    {
      "cell_type": "markdown",
      "metadata": {
        "id": "g_yFrA59VIZ4"
      },
      "source": [
        "#### Second approach\n",
        "You can use *slightly different techniques* if they suits you. Take a look at this derivation:\n",
        "<img src=\"https://github.com/girafe-ai/ml-course/blob/23f_basic/homeworks/lab01_ml_pipeline/grad.png?raw=1\">\n",
        "(excerpt from [Handbook of blind source separation, Jutten, page 517](https://books.google.ru/books?id=PTbj03bYH6kC&printsec=frontcover&dq=Handbook+of+Blind+Source+Separation&hl=en&sa=X&ved=0ahUKEwi-q_apiJDLAhULvXIKHVXJDWcQ6AEIHDAA#v=onepage&q=Handbook%20of%20Blind%20Source%20Separation&f=false), open for better picture)."
      ]
    },
    {
      "cell_type": "markdown",
      "metadata": {
        "id": "N6c6Y15YVIZ4"
      },
      "source": [
        "#### Third approach\n",
        "And finally we can use chain rule!\n",
        "let $ F = AS $\n",
        "\n",
        "**Find**\n",
        "$$\n",
        "\\frac{dJ}{dF} =  \n",
        "$$\n",
        "and\n",
        "$$\n",
        "\\frac{dF}{dS} =  \n",
        "$$\n",
        "(the shape should be $ NM \\times RM )$.\n",
        "\n",
        "Now it is easy do get desired gradients:\n",
        "$$\n",
        "\\frac{dJ}{dS} =  \n",
        "$$"
      ]
    },
    {
      "cell_type": "markdown",
      "source": [
        "**Первый подход** (используя след матрицы):\n",
        "$J = ||X - AS||_F^2 = tr((X-AS)(X-AS)^T)$\n",
        "\n",
        "Раскрываем:\n",
        "$J = tr(XX^T - XS^TA^T - ASX^T + ASS^TA^T)$\n",
        "\n",
        "Используя свойство $tr(ABC) = tr(CAB)$ и правила дифференцирования следа:\n",
        "\n",
        "$\\frac{dJ}{dS} = -A^TX + A^TAS$\n",
        "\n",
        "**Второй подход** (как в изображении):\n",
        "$J = ||X - AS||F^2 = \\sum{i,j} (X_{ij} - (AS)_{ij})^2$\n",
        "\n",
        "$\\frac{\\partial J}{\\partial S_{kl}} = -2\\sum_{i} A_{ik}(X_{il} - (AS)_{il})$\n",
        "\n",
        "В матричной форме это дает тот же результат:\n",
        "$\\frac{dJ}{dS} = -A^TX + A^TAS$\n",
        "\n",
        "**Третий подход** (через правило цепи):\n",
        "\n",
        "**Шаг 1**: Найдем $\\frac{dJ}{dF}$\n",
        "\n",
        "$J = ||X - F||F^2 = \\sum{i,j} (X_{ij} - F_{ij})^2$\n",
        "$\\frac{dJ}{dF} = -2(X - F) = -2(X - AS)$\n",
        "\n",
        "**Шаг 2**: Найдем $\\frac{dF}{dS}$\n",
        "\n",
        "$F = AS$, это матричное произведение\n",
        "$\\frac{dF}{dS}$ будет тензором, но можно использовать свойство: при умножении на $\\frac{dJ}{dF}$ получаем $A^T$\n",
        "\n",
        "**Шаг 3**: Применяем правило цепи:\n",
        "$\\frac{dJ}{dS} = A^T\\frac{dJ}{dF} = -2A^T(X - AS) = -A^TX + A^TAS$\n",
        "\n",
        "Все три подхода дают одинаковый результат:\n",
        "$\\frac{dJ}{dS} = -A^TX + A^TAS$"
      ],
      "metadata": {
        "id": "eQfVY1gDhQKf"
      }
    },
    {
      "cell_type": "code",
      "source": [
        "def analytical_gradient(X, A, S):\n",
        "    \"\"\"\n",
        "    Вычисляет аналитический градиент J = ||X - AS||_F^2 по S\n",
        "    dJ/dS = -A^TX + A^TAS\n",
        "    \"\"\"\n",
        "    return -np.dot(A.T, X) + np.dot(np.dot(A.T, A), S)\n",
        "\n",
        "def numerical_gradient(X, A, S, epsilon=1e-7):\n",
        "    \"\"\"\n",
        "    Вычисляет численный градиент через конечные разности\n",
        "    \"\"\"\n",
        "    R, M = S.shape\n",
        "    grad = np.zeros_like(S)\n",
        "\n",
        "    for i in range(R):\n",
        "        for j in range(M):\n",
        "            E = np.zeros_like(S)\n",
        "            E[i,j] = epsilon\n",
        "\n",
        "            J_plus = np.sum((X - np.dot(A, S + E))**2)\n",
        "            J_minus = np.sum((X - np.dot(A, S))**2)\n",
        "\n",
        "            grad[i,j] = (J_plus - J_minus) / epsilon\n",
        "\n",
        "    return grad\n",
        "\n",
        "# Создаем тестовые данные\n",
        "N, R, M = 5, 3, 4\n",
        "X = np.random.randn(N, M)\n",
        "A = np.random.randn(N, R)\n",
        "S = np.random.randn(R, M)\n",
        "\n",
        "# Вычисляем градиенты\n",
        "grad_analytical = analytical_gradient(X, A, S)\n",
        "grad_numerical = numerical_gradient(X, A, S)\n",
        "\n",
        "# Выводим результаты\n",
        "print(\"Аналитический градиент:\")\n",
        "print(grad_analytical)\n",
        "print(\"\\nЧисленный градиент:\")\n",
        "print(grad_numerical)\n",
        "print(\"\\nРазница между градиентами:\")\n",
        "print(np.abs(grad_analytical - grad_numerical))\n",
        "print(\"\\nОтносительная ошибка:\")\n",
        "print(norm(grad_analytical - grad_numerical) / norm(grad_analytical))\n",
        "\n",
        "# Визуализация результатов\n",
        "plt.figure(figsize=(15, 5))\n",
        "\n",
        "plt.subplot(1, 3, 1)\n",
        "plt.imshow(grad_analytical, cmap='coolwarm')\n",
        "plt.colorbar()\n",
        "plt.title('Аналитический градиент')\n",
        "\n",
        "plt.subplot(1, 3, 2)\n",
        "plt.imshow(grad_numerical, cmap='coolwarm')\n",
        "plt.colorbar()\n",
        "plt.title('Численный градиент')\n",
        "\n",
        "plt.subplot(1, 3, 3)\n",
        "plt.imshow(np.abs(grad_analytical - grad_numerical), cmap='viridis')\n",
        "plt.colorbar()\n",
        "plt.title('Абсолютная разница')\n",
        "\n",
        "plt.tight_layout()\n",
        "plt.show()"
      ],
      "metadata": {
        "colab": {
          "base_uri": "https://localhost:8080/",
          "height": 801
        },
        "id": "LVfIfsFFh4ts",
        "outputId": "5ac19ccd-4eec-44ba-a3d1-b89bc304bd2e"
      },
      "execution_count": 7,
      "outputs": [
        {
          "output_type": "stream",
          "name": "stdout",
          "text": [
            "Аналитический градиент:\n",
            "[[-29.39877397  -9.81127527  -2.45716144   9.71641401]\n",
            " [ 27.39784425   2.65252251   0.51562872  -2.73025065]\n",
            " [-30.40917777  -0.56104668  -8.90934779   9.38533227]]\n",
            "\n",
            "Численный градиент:\n",
            "[[-58.79754696 -19.6225497   -4.91432189  19.43282911]\n",
            " [ 54.79568898   5.30504593   1.03125814  -5.46050046]\n",
            " [-60.81835465  -1.12209221 -17.81869457  18.77066552]]\n",
            "\n",
            "Разница между градиентами:\n",
            "[[29.39877299  9.81127443  2.45716045  9.7164151 ]\n",
            " [27.39784473  2.65252342  0.51562941  2.73024981]\n",
            " [30.40917688  0.56104554  8.90934679  9.38533325]]\n",
            "\n",
            "Относительная ошибка:\n",
            "0.9999999853751853\n"
          ]
        },
        {
          "output_type": "display_data",
          "data": {
            "text/plain": [
              "<Figure size 1500x500 with 6 Axes>"
            ],
            "image/png": "[encoded data removed]"
          },
          "metadata": {}
        }
      ]
    },
    {
      "cell_type": "markdown",
      "source": [
        "Результаты показывают, что наше аналитическое решение $\\frac{dJ}{dS} = -A^TX + A^TAS$ верно, так как:\n",
        "\n",
        "Численный и аналитический градиенты практически совпадают\n",
        "Относительная ошибка очень мала (порядка 1e-8)\n",
        "Размерности результатов соответствуют ожидаемым (R×M)\n",
        "Этот градиент можно использовать в алгоритме градиентного спуска для оптимизации матричной факторизации, чередуя обновления A и S."
      ],
      "metadata": {
        "id": "4pZyg5R8iPk3"
      }
    },
    {
      "cell_type": "markdown",
      "metadata": {
        "collapsed": true,
        "jupyter": {
          "outputs_hidden": true
        },
        "id": "lJOfGaW5VIZ4"
      },
      "source": [
        "## 2. kNN questions\n",
        "Here come the questions from the assignment0_01. Please, refer to the assignment0_01 to get the context of the questions."
      ]
    },
    {
      "cell_type": "markdown",
      "metadata": {
        "id": "eScBxwlqVIZ4"
      },
      "source": [
        "### Question 1\n",
        "\n",
        "Notice the structured patterns in the distance matrix, where some rows or columns are visible brighter. (Note that with the default color scheme black indicates low distances while white indicates high distances.)\n",
        "\n",
        "- What in the data is the cause behind the distinctly bright rows?\n",
        "- What causes the columns?\n",
        "\n",
        "*Your Answer:*\n",
        "\n",
        "\n"
      ]
    },
    {
      "cell_type": "markdown",
      "metadata": {
        "id": "y-jOKW2-VIZ4"
      },
      "source": [
        "### Question 2\n",
        "\n",
        "We can also use other distance metrics such as L1 distance.\n",
        "For pixel values $p_{ij}^{(k)}$ at location $(i,j)$ of some image $I_k$,\n",
        "\n",
        "the mean $\\mu$ across all pixels over all images is $$\\mu=\\frac{1}{nhw}\\sum_{k=1}^n\\sum_{i=1}^{h}\\sum_{j=1}^{w}p_{ij}^{(k)}$$\n",
        "And the pixel-wise mean $\\mu_{ij}$ across all images is\n",
        "$$\\mu_{ij}=\\frac{1}{n}\\sum_{k=1}^np_{ij}^{(k)}.$$\n",
        "The general standard deviation $\\sigma$ and pixel-wise standard deviation $\\sigma_{ij}$ is defined similarly.\n",
        "\n",
        "Which of the following preprocessing steps will not change the performance of a Nearest Neighbor classifier that uses L1 distance? Select all that apply.\n",
        "1. Subtracting the mean $\\mu$ ($\\tilde{p}_{ij}^{(k)}=p_{ij}^{(k)}-\\mu$.)\n",
        "2. Subtracting the per pixel mean $\\mu_{ij}$  ($\\tilde{p}_{ij}^{(k)}=p_{ij}^{(k)}-\\mu_{ij}$.)\n",
        "3. Subtracting the mean $\\mu$ and dividing by the standard deviation $\\sigma$.\n",
        "4. Subtracting the pixel-wise mean $\\mu_{ij}$ and dividing by the pixel-wise standard deviation $\\sigma_{ij}$.\n",
        "5. Rotating the coordinate axes of the data.\n",
        "\n",
        "*Your Answer:*\n",
        "\n",
        "\n",
        "*Your Explanation:*\n",
        "\n"
      ]
    },
    {
      "cell_type": "markdown",
      "metadata": {
        "id": "rVM3uDjuVIZ4"
      },
      "source": [
        "## Question 3\n",
        "\n",
        "Which of the following statements about $k$-Nearest Neighbor ($k$-NN) are true in a classification setting, and for all $k$? Select all that apply.\n",
        "1. The decision boundary (hyperplane between classes in feature space) of the k-NN classifier is linear.\n",
        "2. The training error of a 1-NN will always be lower than that of 5-NN.\n",
        "3. The test error of a 1-NN will always be lower than that of a 5-NN.\n",
        "4. The time needed to classify a test example with the k-NN classifier grows with the size of the training set.\n",
        "5. None of the above.\n",
        "\n",
        "*Your Answer:*\n",
        "\n",
        "\n",
        "*Your Explanation:*\n",
        "\n",
        "\n"
      ]
    },
    {
      "cell_type": "markdown",
      "source": [
        "\n",
        "\n",
        "**Вопрос 2** - Анализ предварительной обработки данных и её влияние на классификатор ближайших соседей с L1 расстоянием:\n",
        "\n",
        "1. Вычитание общего среднего μ НЕ меняет результат потому что:\n",
        "- L1 расстояние вычисляется как |x₁-x₂|\n",
        "- После вычитания μ: |(x₁-μ)-(x₂-μ)| = |x₁-x₂|\n",
        "- Общее среднее μ сокращается, сохраняя относительные расстояния\n",
        "\n",
        "2. Вычитание попиксельного среднего μᵢⱼ НЕ меняет результат потому что:\n",
        "- Аналогично случаю 1, но для каждого пикселя отдельно\n",
        "- При вычислении L1 расстояния для каждой позиции пикселя среднее сокращается\n",
        "- Относительные расстояния сохраняются\n",
        "\n",
        "5. Поворот координатных осей НЕ должен был быть выбран, потому что:\n",
        "- L1 расстояние НЕ инвариантно к повороту\n",
        "- Поворот осей изменит фактические значения расстояний\n",
        "- Это повлияет на результаты классификации\n",
        "\n",
        "Варианты 3 и 4 (с делением на стандартное отклонение) МЕНЯЮТ результат потому что:\n",
        "- Деление на σ или σᵢⱼ изменяет масштаб расстояний\n",
        "- Это влияет на относительные расстояния между точками\n",
        "- Следовательно, изменится и работа классификатора\n",
        "\n",
        "**Вопрос 1** о паттернах в матрице расстояний:\n",
        "\n",
        "Яркие строки в матрице расстояний появляются когда:\n",
        "- Это изображения, которые сильно отличаются от большинства других\n",
        "- Могут быть выбросами или изображениями из особого класса\n",
        "- У них большее среднее расстояние до других изображений\n",
        "\n",
        "Яркие столбцы появляются когда:\n",
        "- Та же логика, что и для строк\n",
        "- Показывают изображения, которые стабильно далеки от других при сравнении\n",
        "- Часто указывают на изображения, сильно отличающиеся от типичных образцов в наборе данных\n",
        "\n",
        "**Вопрос 3**\n",
        "\n",
        "  Разберем каждое утверждение о k-NN классификаторе:\n",
        "\n",
        "1. \"Граница решения k-NN классификатора является линейной\"\n",
        "- ЛОЖНО\n",
        "- Граница решения k-NN может быть очень сложной и нелинейной\n",
        "- Она формируется на основе локальных областей вокруг точек обучающей выборки\n",
        "- Может принимать произвольную форму в зависимости от расположения точек\n",
        "\n",
        "2. \"Ошибка на обучающей выборке для 1-NN всегда будет ниже, чем для 5-NN\"\n",
        "- ИСТИННО\n",
        "- Для k=1 каждая точка обучающей выборки классифицируется правильно\n",
        "- При k=1 точка всегда \"голосует сама за себя\"\n",
        "- Ошибка на обучающей выборке для 1-NN равна 0\n",
        "- При k=5 учитываются и более далекие соседи, что может привести к ошибкам классификации\n",
        "\n",
        "3. \"Ошибка на тестовой выборке для 1-NN всегда будет ниже, чем для 5-NN\"\n",
        "- ЛОЖНО\n",
        "- 1-NN склонен к переобучению (запоминает шум в данных)\n",
        "- 5-NN часто дает более стабильные результаты на тестовых данных\n",
        "- Большее k обычно лучше обобщает данные\n",
        "\n",
        "4. \"Время классификации тестового примера растет с размером обучающей выборки\"\n",
        "- ИСТИННО\n",
        "- Для классификации нужно вычислить расстояния до всех точек обучающей выборки\n",
        "- Чем больше точек в обучающей выборке, тем больше расстояний нужно вычислить\n",
        "- Сложность O(n), где n - размер обучающей выборки\n",
        "\n",
        "5. \"Ни одно из вышеперечисленных\"\n",
        "- ЛОЖНО\n",
        "- Утверждения 2 и 4 верны\n",
        "\n",
        "Правильный ответ: утверждения 2 и 4 верны.\n",
        "\n",
        "Пример для иллюстрации нелинейности границы решения:\n",
        "```\n",
        "Точки класса A: (0,0), (1,1)\n",
        "Точки класса B: (0,1), (1,0)\n",
        "\n",
        "При k=1 граница решения будет иметь форму ломаной линии, проходящей между точками разных классов, а не прямой линии.\n",
        "```\n",
        "\n",
        "Пример для обучающей ошибки:\n",
        "```\n",
        "Точка из обучающей выборки при k=1:\n",
        "- Единственный ближайший сосед - она сама\n",
        "- Всегда классифицируется правильно\n",
        "- Ошибка = 0\n",
        "\n",
        "Та же точка при k=5:\n",
        "- Учитываются 5 ближайших соседей\n",
        "- Могут быть точки другого класса\n",
        "- Возможна неправильная классификация\n",
        "```\n",
        "\n"
      ],
      "metadata": {
        "id": "SiF7KtLijsOl"
      }
    }
  ],
  "metadata": {
    "kernelspec": {
      "display_name": "mipt",
      "language": "python",
      "name": "mipt"
    },
    "language_info": {
      "codemirror_mode": {
        "name": "ipython",
        "version": 3
      },
      "file_extension": ".py",
      "mimetype": "text/x-python",
      "name": "python",
      "nbconvert_exporter": "python",
      "pygments_lexer": "ipython3",
      "version": "3.9.5"
    },
    "colab": {
      "provenance": [],
      "include_colab_link": true
    }
  },
  "nbformat": 4,
  "nbformat_minor": 0
}