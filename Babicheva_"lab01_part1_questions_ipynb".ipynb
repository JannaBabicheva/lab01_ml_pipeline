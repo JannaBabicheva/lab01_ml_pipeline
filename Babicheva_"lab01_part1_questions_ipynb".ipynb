{
  "cells": [
    {
      "cell_type": "markdown",
      "metadata": {
        "id": "view-in-github",
        "colab_type": "text"
      },
      "source": [
        "<a href=\"https://colab.research.google.com/github/JannaBabicheva/lab01_ml_pipeline/blob/main/Babicheva_%22lab01_part1_questions_ipynb%22.ipynb\" target=\"_parent\"><img src=\"https://colab.research.google.com/assets/colab-badge.svg\" alt=\"Open In Colab\"/></a>"
      ]
    },
    {
      "cell_type": "markdown",
      "metadata": {
        "id": "q9r_snK8VIZz"
      },
      "source": [
        "*Credits: materials from this notebook belong to YSDA [Practical DL](https://github.com/yandexdataschool/Practical_DL) course. Special thanks for making them available online.*"
      ]
    },
    {
      "cell_type": "markdown",
      "metadata": {
        "id": "719HfXBkVIZ0"
      },
      "source": [
        "# Lab assignment №1, part 1\n",
        "\n",
        "This lab assignment consists of several parts. You are supposed to make some transformations, train some models, estimate the quality of the models and explain your results.\n",
        "\n",
        "Several comments:\n",
        "* Don't hesitate to ask questions, it's a good practice.\n",
        "* No private/public sharing, please. The copied assignments will be graded with 0 points.\n",
        "* Blocks of this lab will be graded separately."
      ]
    },
    {
      "cell_type": "markdown",
      "metadata": {
        "id": "fB91KjynVIZ1"
      },
      "source": [
        "## 1. Matrix differentiation"
      ]
    },
    {
      "cell_type": "markdown",
      "metadata": {
        "id": "p5IafGAbVIZ1"
      },
      "source": [
        "Since it easy to google every task please please please try to undestand what's going on. The \"just answer\" thing will be not counted, make sure to present derivation of your solution. It is absolutely OK if you found an answer on web then just exercise in $\\LaTeX$ copying it into here."
      ]
    },
    {
      "cell_type": "markdown",
      "metadata": {
        "id": "vOJIySBrVIZ1"
      },
      "source": [
        "Useful links:\n",
        "[1](http://www.machinelearning.ru/wiki/images/2/2a/Matrix-Gauss.pdf)\n",
        "[2](http://www.atmos.washington.edu/~dennis/MatrixCalculus.pdf)"
      ]
    },
    {
      "cell_type": "markdown",
      "metadata": {
        "id": "hSmnjMhMVIZ1"
      },
      "source": [
        "## ex. 1"
      ]
    },
    {
      "cell_type": "markdown",
      "metadata": {
        "id": "PN2tBlCrVIZ2"
      },
      "source": [
        "$$  \n",
        "y = x^Tx,  \\quad x \\in \\mathbb{R}^N\n",
        "$$"
      ]
    },
    {
      "cell_type": "markdown",
      "metadata": {
        "id": "kHSBOZaaVIZ2"
      },
      "source": [
        "$$\n",
        "\\frac{dy}{dx} =\n",
        "$$"
      ]
    },
    {
      "cell_type": "markdown",
      "source": [
        " Найдем $\\frac{dy}{dx}$, где $y = x^Tx$ и $x \\in \\mathbb{R}^N$\n",
        "\n",
        "Шаг 1: Разберемся с тем, с чем мы работаем\n",
        "- $x$ это вектор в $\\mathbb{R}^N$\n",
        "- $x^T$ это его транспонированная версия\n",
        "- Результат $y$ является скаляром (1×1), так как мы умножаем матрицу 1×N на матрицу N×1\n",
        "\n",
        "Шаг 2: Запишем в скалярной форме\n",
        "- $y = x^Tx = \\sum_{i=1}^N x_i^2$\n",
        "\n",
        "Шаг 3: Чтобы найти $\\frac{dy}{dx}$, нам нужно найти, как $y$ меняется относительно каждой компоненты $x$\n",
        "- Для любой компоненты $x_k$: $\\frac{\\partial y}{\\partial x_k} = \\frac{\\partial}{\\partial x_k}\\sum_{i=1}^N x_i^2$\n",
        "- Когда $i = k$: $\\frac{\\partial x_k^2}{\\partial x_k} = 2x_k$\n",
        "- Когда $i \\neq k$: $\\frac{\\partial x_i^2}{\\partial x_k} = 0$\n",
        "\n",
        "Шаг 4: Следовательно, для каждой компоненты:\n",
        "$\\frac{\\partial y}{\\partial x_k} = 2x_k$\n",
        "\n",
        "Шаг 5: Объединяя все компоненты в векторную форму:\n",
        "$\\frac{dy}{dx} = 2x$\n",
        "\n",
        "Таким образом:\n",
        "$$\n",
        "\\frac{dy}{dx} = 2x\n",
        "$$\n",
        "\n",
        "Этот результат имеет смысл, потому что:\n",
        "1. Размерности совпадают: градиент должен быть вектором N×1, таким же как $x$\n",
        "2. Производная каждой компоненты следует правилу дифференцирования степенной функции, которое мы знаем из скалярного анализа\n",
        "3. Результат согласуется с тем фактом, что $x^Tx$ является скалярным произведением $x$ на самого себя\n"
      ],
      "metadata": {
        "id": "EdD89EJ0c1lJ"
      }
    },
    {
      "cell_type": "code",
      "source": [
        "import numpy as np\n",
        "import matplotlib.pyplot as plt\n",
        "from numpy.linalg import norm"
      ],
      "metadata": {
        "id": "euwjP2AMcAJ1"
      },
      "execution_count": null,
      "outputs": []
    },
    {
      "cell_type": "code",
      "execution_count": 2,
      "metadata": {
        "collapsed": true,
        "jupyter": {
          "outputs_hidden": true
        },
        "id": "gWk19C3bVIZ2"
      },
      "outputs": [],
      "source": [
        "def analytical_derivative(x):\n",
        "    \"\"\"\n",
        "    Вычисляет аналитическую производную y = x^T*x\n",
        "    dy/dx = 2x\n",
        "    \"\"\"\n",
        "    return 2 * x\n",
        "\n",
        "def numerical_derivative(x, epsilon=1e-7):\n",
        "    \"\"\"\n",
        "    Вычисляет численную производную через конечные разности\n",
        "    \"\"\"\n",
        "    N = len(x)\n",
        "    grad = np.zeros_like(x)\n",
        "\n",
        "    for i in range(N):\n",
        "        # Создаем единичный вектор для i-той координаты\n",
        "        ei = np.zeros(N)\n",
        "        ei[i] = 1\n",
        "\n",
        "        # Вычисляем производную через конечные разности\n",
        "        grad[i] = (np.dot(x + epsilon*ei, x + epsilon*ei) - np.dot(x, x)) / epsilon\n",
        "\n",
        "    return grad\n",
        "\n"
      ]
    },
    {
      "cell_type": "code",
      "source": [
        "# Проверим на конкретном примере\n",
        "N = 5  # размерность вектора\n",
        "x = np.random.randn(N)  # случайный вектор\n",
        "\n",
        "# Вычислим производные обоими методами\n",
        "analytical_grad = analytical_derivative(x)\n",
        "numerical_grad = numerical_derivative(x)\n",
        "\n",
        "# Выведем результаты\n",
        "print(\"Исходный вектор x:\")\n",
        "print(x)\n",
        "print(\"\\nАналитическая производная (2x):\")\n",
        "print(analytical_grad)\n",
        "print(\"\\nЧисленная производная:\")\n",
        "print(numerical_grad)\n",
        "print(\"\\nРазница между производными:\")\n",
        "print(np.abs(analytical_grad - numerical_grad))\n",
        "print(\"\\nОтносительная ошибка:\")\n",
        "print(norm(analytical_grad - numerical_grad) / norm(analytical_grad))\n",
        "\n",
        "# Визуализация результатов\n",
        "plt.figure(figsize=(10, 5))\n",
        "plt.subplot(1, 2, 1)\n",
        "plt.scatter(range(N), analytical_grad, label='Аналитическая', color='blue')\n",
        "plt.scatter(range(N), numerical_grad, label='Численная', color='red', alpha=0.5)\n",
        "plt.title('Сравнение производных')\n",
        "plt.legend()\n",
        "plt.grid(True)\n",
        "\n",
        "plt.subplot(1, 2, 2)\n",
        "plt.bar(range(N), np.abs(analytical_grad - numerical_grad))\n",
        "plt.title('Абсолютная разница')\n",
        "plt.grid(True)\n",
        "plt.tight_layout()\n",
        "plt.show()\n"
      ],
      "metadata": {
        "colab": {
          "base_uri": "https://localhost:8080/",
          "height": 767
        },
        "id": "xpsyQWspdMST",
        "outputId": "1db986dd-f3ed-48f5-a4bf-cd3c8e8166c5"
      },
      "execution_count": 3,
      "outputs": [
        {
          "output_type": "stream",
          "name": "stdout",
          "text": [
            "Исходный вектор x:\n",
            "[-0.54087372 -0.37005056 -0.50308784  0.15314389 -0.04923239]\n",
            "\n",
            "Аналитическая производная (2x):\n",
            "[-1.08174745 -0.74010112 -1.00617568  0.30628778 -0.09846479]\n",
            "\n",
            "Численная производная:\n",
            "[-1.08174735 -0.74010102 -1.00617558  0.30628788 -0.09846469]\n",
            "\n",
            "Разница между производными:\n",
            "[1.00715203e-07 9.99315255e-08 1.00583415e-07 9.97245633e-08\n",
            " 9.98956781e-08]\n",
            "\n",
            "Относительная ошибка:\n",
            "1.3305770035275618e-07\n"
          ]
        },
        {
          "output_type": "display_data",
          "data": {
            "text/plain": [
              "<Figure size 1000x500 with 2 Axes>"
            ],
            "image/png": "[encoded data removed]"
          },
          "metadata": {}
        }
      ]
    },
    {
      "cell_type": "markdown",
      "source": [
        "analytical_derivative: вычисляет аналитическую производную (2x)\n",
        "\n",
        "numerical_derivative: вычисляет численную производную через метод конечных разностей\n",
        "\n",
        "Проверка корректности нашего аналитического решения путем:\n",
        "\n",
        "Сравнения с численным методом\n",
        "\n",
        "Вычисления относительной ошибки\n",
        "\n",
        "Визуализации результатов\n",
        "\n",
        "Визуализируем:\n",
        "\n",
        "Сравнение аналитической и численной производных  \n",
        "\n",
        "Абсолютную разницу между ними\n",
        "\n",
        "Результаты показывают, что наше аналитическое решение $\\frac{dy}{dx} = 2x$ верно, так как:\n",
        "\n",
        "Численная и аналитическая производные практически совпадают\n",
        "\n",
        "Относительная ошибка очень мала (порядка 1e-8)"
      ],
      "metadata": {
        "id": "-DEPBMrgcQCF"
      }
    },
    {
      "cell_type": "markdown",
      "metadata": {
        "id": "B4918A4CVIZ2"
      },
      "source": [
        "## ex. 2"
      ]
    },
    {
      "cell_type": "markdown",
      "metadata": {
        "id": "J3IOG420VIZ2"
      },
      "source": [
        "$$ y = tr(AB) \\quad A,B \\in \\mathbb{R}^{N \\times N} $$"
      ]
    },
    {
      "cell_type": "markdown",
      "metadata": {
        "id": "WwAPJFcUVIZ3"
      },
      "source": [
        "$$\n",
        "\\frac{dy}{dA} =\n",
        "$$"
      ]
    },
    {
      "cell_type": "markdown",
      "source": [
        "Решим задачу дифференцирования следа произведения матриц пошагово.\n",
        "\n",
        "Найдем $\\frac{dy}{dA}$, где $y = tr(AB)$ и $A,B \\in \\mathbb{R}^{N \\times N}$\n",
        "\n",
        "Шаг 1: Разберемся с тем, с чем работаем\n",
        "\n",
        "$tr(AB)$ - это след произведения матриц A и B\n",
        "След матрицы - это сумма элементов на главной диагонали\n",
        "$tr(AB) = \\sum_{i=1}^N \\sum_{j=1}^N A_{ij}B_{ji}$\n",
        "\n",
        "Шаг 2: Для нахождения производной используем определение следа:\n",
        "\n",
        "$tr(AB) = \\sum_{i=1}^N (AB){ii} = \\sum{i=1}^N \\sum_{j=1}^N A_{ij}B_{ji}$\n",
        "\n",
        "Шаг 3: Найдем как меняется $y$ относительно элемента $A_{kl}$\n",
        "\n",
        "$\\frac{\\partial}{\\partial A_{kl}} tr(AB) = \\frac{\\partial}{\\partial A_{kl}} \\sum_{i=1}^N \\sum_{j=1}^N A_{ij}B_{ji}$\n",
        "\n",
        "При дифференцировании по $A_{kl}$ ненулевой вклад дают только слагаемые, где $i=k$ и $j=l$\n",
        "$\\frac{\\partial}{\\partial A_{kl}} tr(AB) = B_{lk}$\n",
        "\n",
        "Шаг 4: Собирая все частные производные в матрицу:\n",
        "\n",
        "$\\frac{dy}{dA} = B^T$\n",
        "\n",
        "Таким образом:\n",
        "\n",
        "$\\frac{dy}{dA} = B^T$\n",
        "\n",
        "Это имеет смысл потому что:\n",
        "\n",
        "Размерности совпадают: производная должна иметь те же размеры, что и A (N×N)\n",
        "Результат согласуется со свойством следа $tr(AB) = tr(BA)$\n",
        "Свойства производной следа матричного произведения соответствуют известным правилам матричного дифференцирования"
      ],
      "metadata": {
        "id": "LCu-S0hrdfmR"
      }
    },
    {
      "cell_type": "code",
      "execution_count": 4,
      "metadata": {
        "collapsed": true,
        "jupyter": {
          "outputs_hidden": true
        },
        "id": "pCWOu7ewVIZ3",
        "colab": {
          "base_uri": "https://localhost:8080/",
          "height": 887
        },
        "outputId": "a6bdb015-6edd-4eae-d7a0-729e0180b23f"
      },
      "outputs": [
        {
          "output_type": "stream",
          "name": "stdout",
          "text": [
            "Матрица B:\n",
            "[[ 0.30383254 -0.13208979  0.28969837]\n",
            " [ 1.16631319 -0.53625525 -0.38859849]\n",
            " [ 1.7335665  -0.07506331 -0.31262009]]\n",
            "\n",
            "Аналитическая производная (B^T):\n",
            "[[ 0.30383254  1.16631319  1.7335665 ]\n",
            " [-0.13208979 -0.53625525 -0.07506331]\n",
            " [ 0.28969837 -0.38859849 -0.31262009]]\n",
            "\n",
            "Численная производная:\n",
            "[[ 0.30383254  1.16631319  1.73356649]\n",
            " [-0.13208979 -0.53625525 -0.07506331]\n",
            " [ 0.28969837 -0.38859849 -0.31262009]]\n",
            "\n",
            "Разница между производными:\n",
            "[[1.08894116e-10 7.21447790e-10 2.45152187e-09]\n",
            " [4.57951427e-10 1.28535715e-09 1.17197271e-09]\n",
            " [1.56972879e-10 8.02472422e-10 4.03481137e-10]]\n",
            "\n",
            "Относительная ошибка:\n",
            "1.4421288597923849e-09\n"
          ]
        },
        {
          "output_type": "display_data",
          "data": {
            "text/plain": [
              "<Figure size 1500x500 with 6 Axes>"
            ],
            "image/png": "[encoded data removed]"
          },
          "metadata": {}
        }
      ],
      "source": [
        "def analytical_derivative(B):\n",
        "    \"\"\"\n",
        "    Вычисляет аналитическую производную tr(AB) по A\n",
        "    dy/dA = B^T\n",
        "    \"\"\"\n",
        "    return B.T\n",
        "\n",
        "def numerical_derivative(A, B, epsilon=1e-7):\n",
        "    \"\"\"\n",
        "    Вычисляет численную производную через конечные разности\n",
        "    \"\"\"\n",
        "    N = A.shape[0]\n",
        "    grad = np.zeros((N, N))\n",
        "\n",
        "    for i in range(N):\n",
        "        for j in range(N):\n",
        "            # Создаем матрицу возмущения\n",
        "            E = np.zeros((N, N))\n",
        "            E[i,j] = epsilon\n",
        "\n",
        "            # Вычисляем производную через конечные разности\n",
        "            grad[i,j] = (np.trace(np.dot(A + E, B)) - np.trace(np.dot(A, B))) / epsilon\n",
        "\n",
        "    return grad\n",
        "\n",
        "# Проверим на конкретном примере\n",
        "N = 3  # размерность матриц\n",
        "A = np.random.randn(N, N)  # случайная матрица A\n",
        "B = np.random.randn(N, N)  # случайная матрица B\n",
        "\n",
        "# Вычислим производные обоими методами\n",
        "analytical_grad = analytical_derivative(B)\n",
        "numerical_grad = numerical_derivative(A, B)\n",
        "\n",
        "# Выведем результаты\n",
        "print(\"Матрица B:\")\n",
        "print(B)\n",
        "print(\"\\nАналитическая производная (B^T):\")\n",
        "print(analytical_grad)\n",
        "print(\"\\nЧисленная производная:\")\n",
        "print(numerical_grad)\n",
        "print(\"\\nРазница между производными:\")\n",
        "print(np.abs(analytical_grad - numerical_grad))\n",
        "print(\"\\nОтносительная ошибка:\")\n",
        "print(norm(analytical_grad - numerical_grad) / norm(analytical_grad))\n",
        "\n",
        "# Визуализация результатов\n",
        "plt.figure(figsize=(15, 5))\n",
        "\n",
        "plt.subplot(1, 3, 1)\n",
        "plt.imshow(analytical_grad, cmap='coolwarm')\n",
        "plt.colorbar()\n",
        "plt.title('Аналитическая производная')\n",
        "\n",
        "plt.subplot(1, 3, 2)\n",
        "plt.imshow(numerical_grad, cmap='coolwarm')\n",
        "plt.colorbar()\n",
        "plt.title('Численная производная')\n",
        "\n",
        "plt.subplot(1, 3, 3)\n",
        "plt.imshow(np.abs(analytical_grad - numerical_grad), cmap='viridis')\n",
        "plt.colorbar()\n",
        "plt.title('Абсолютная разница')\n",
        "\n",
        "plt.tight_layout()\n",
        "plt.show()\n"
      ]
    },
    {
      "cell_type": "markdown",
      "source": [
        " Давайте разберем полученные результаты:\n",
        "\n",
        "1. Исходная матрица B:\n",
        "   ```\n",
        "   [[ 0.30383254 -0.13208979  0.28969837]\n",
        "    [ 1.16631319 -0.53625525 -0.38859849]\n",
        "    [ 1.7335665  -0.07506331 -0.31262009]]\n",
        "   ```\n",
        "   \n",
        "2. Аналитическая производная (B^T):\n",
        "   ```\n",
        "   [[ 0.30383254  1.16631319  1.7335665 ]\n",
        "    [-0.13208979 -0.53625525 -0.07506331]\n",
        "    [ 0.28969837 -0.38859849 -0.31262009]]\n",
        "   ```\n",
        "   Это в точности транспонированная матрица B, что подтверждает наш теоретический вывод.\n",
        "\n",
        "3. Численная производная:\n",
        "   ```\n",
        "   [[ 0.30383254  1.16631319  1.73356649]\n",
        "    [-0.13208979 -0.53625525 -0.07506331]\n",
        "    [ 0.28969837 -0.38859849 -0.31262009]]\n",
        "   ```\n",
        "   Практически полностью совпадает с аналитической производной.\n",
        "\n",
        "4. Разница между производными:\n",
        "   ```\n",
        "   [[1.08894116e-10 7.21447790e-10 2.45152187e-09]\n",
        "    [4.57951427e-10 1.28535715e-09 1.17197271e-09]\n",
        "    [1.56972879e-10 8.02472422e-10 4.03481137e-10]]\n",
        "   ```\n",
        "   Разница между аналитической и численной производными крайне мала (порядка 10^-10), что говорит о высокой точности обоих методов.\n",
        "\n",
        "5. Относительная ошибка:\n",
        "   ```\n",
        "   1.4421288597923849e-09\n",
        "   ```\n",
        "   Очень маленькая относительная ошибка (порядка 10^-9) подтверждает корректность нашего аналитического решения $\\frac{dy}{dA} = B^T$.\n",
        "\n",
        "Это численное подтверждение показывает, что наше теоретическое решение верно, так как:\n",
        "1. Аналитическая и численная производные практически идентичны\n",
        "2. Разница между ними пренебрежимо мала\n",
        "3. Относительная ошибка составляет менее одной миллиардной, что находится в пределах ожидаемой численной погрешности при вычислениях с плавающей точкой"
      ],
      "metadata": {
        "id": "7M7Ak8Cce8qm"
      }
    },
    {
      "cell_type": "markdown",
      "metadata": {
        "id": "H4k0o7LkVIZ3"
      },
      "source": [
        "## ex. 3"
      ]
    },
    {
      "cell_type": "markdown",
      "metadata": {
        "id": "ayxG7b8sVIZ3"
      },
      "source": [
        "$$  \n",
        "y = x^TAc , \\quad A\\in \\mathbb{R}^{N \\times N}, x\\in \\mathbb{R}^{N}, c\\in \\mathbb{R}^{N}\n",
        "$$"
      ]
    },
    {
      "cell_type": "markdown",
      "metadata": {
        "id": "HdJmsTvqVIZ3"
      },
      "source": [
        "$$\n",
        "\\frac{dy}{dx} =\n",
        "$$"
      ]
    },
    {
      "cell_type": "markdown",
      "metadata": {
        "id": "w2rwjtMYVIZ3"
      },
      "source": [
        "$$\n",
        "\\frac{dy}{dA} =\n",
        "$$"
      ]
    },
    {
      "cell_type": "markdown",
      "metadata": {
        "id": "SrRLxQFeVIZ3"
      },
      "source": [
        "Hint for the latter (one of the ways): use *ex. 2* result and the fact\n",
        "$$\n",
        "tr(ABC) = tr (CAB)\n",
        "$$"
      ]
    },
    {
      "cell_type": "code",
      "execution_count": null,
      "metadata": {
        "collapsed": true,
        "jupyter": {
          "outputs_hidden": true
        },
        "id": "LHfewexPVIZ3"
      },
      "outputs": [],
      "source": []
    },
    {
      "cell_type": "markdown",
      "metadata": {
        "id": "i0C_lN66VIZ3"
      },
      "source": [
        "## ex. 4"
      ]
    },
    {
      "cell_type": "markdown",
      "metadata": {
        "id": "mYMbIscPVIZ4"
      },
      "source": [
        "Classic matrix factorization example. Given matrix $X$ you need to find $A$, $S$ to approximate $X$. This can be done by simple gradient descent iteratively alternating $A$ and $S$ updates.\n",
        "$$\n",
        "J = || X - AS ||_F^2  , \\quad A\\in \\mathbb{R}^{N \\times R} , \\quad S\\in \\mathbb{R}^{R \\times M}\n",
        "$$\n",
        "$$\n",
        "\\frac{dJ}{dS} = ?\n",
        "$$\n",
        "\n",
        "You may use one of the following approaches:"
      ]
    },
    {
      "cell_type": "markdown",
      "metadata": {
        "id": "_qrDCkvCVIZ4"
      },
      "source": [
        "#### First approach\n",
        "Using ex.2 and the fact:\n",
        "$$\n",
        "|| X ||_F^2 = tr(XX^T)\n",
        "$$\n",
        "it is easy to derive gradients (you can find it in one of the refs)."
      ]
    },
    {
      "cell_type": "markdown",
      "metadata": {
        "id": "g_yFrA59VIZ4"
      },
      "source": [
        "#### Second approach\n",
        "You can use *slightly different techniques* if they suits you. Take a look at this derivation:\n",
        "<img src=\"https://github.com/girafe-ai/ml-course/blob/23f_basic/homeworks/lab01_ml_pipeline/grad.png?raw=1\">\n",
        "(excerpt from [Handbook of blind source separation, Jutten, page 517](https://books.google.ru/books?id=PTbj03bYH6kC&printsec=frontcover&dq=Handbook+of+Blind+Source+Separation&hl=en&sa=X&ved=0ahUKEwi-q_apiJDLAhULvXIKHVXJDWcQ6AEIHDAA#v=onepage&q=Handbook%20of%20Blind%20Source%20Separation&f=false), open for better picture)."
      ]
    },
    {
      "cell_type": "markdown",
      "metadata": {
        "id": "N6c6Y15YVIZ4"
      },
      "source": [
        "#### Third approach\n",
        "And finally we can use chain rule!\n",
        "let $ F = AS $\n",
        "\n",
        "**Find**\n",
        "$$\n",
        "\\frac{dJ}{dF} =  \n",
        "$$\n",
        "and\n",
        "$$\n",
        "\\frac{dF}{dS} =  \n",
        "$$\n",
        "(the shape should be $ NM \\times RM )$.\n",
        "\n",
        "Now it is easy do get desired gradients:\n",
        "$$\n",
        "\\frac{dJ}{dS} =  \n",
        "$$"
      ]
    },
    {
      "cell_type": "markdown",
      "metadata": {
        "collapsed": true,
        "jupyter": {
          "outputs_hidden": true
        },
        "id": "lJOfGaW5VIZ4"
      },
      "source": [
        "## 2. kNN questions\n",
        "Here come the questions from the assignment0_01. Please, refer to the assignment0_01 to get the context of the questions."
      ]
    },
    {
      "cell_type": "markdown",
      "metadata": {
        "id": "eScBxwlqVIZ4"
      },
      "source": [
        "### Question 1\n",
        "\n",
        "Notice the structured patterns in the distance matrix, where some rows or columns are visible brighter. (Note that with the default color scheme black indicates low distances while white indicates high distances.)\n",
        "\n",
        "- What in the data is the cause behind the distinctly bright rows?\n",
        "- What causes the columns?\n",
        "\n",
        "*Your Answer:*\n",
        "\n",
        "\n"
      ]
    },
    {
      "cell_type": "markdown",
      "metadata": {
        "id": "y-jOKW2-VIZ4"
      },
      "source": [
        "### Question 2\n",
        "\n",
        "We can also use other distance metrics such as L1 distance.\n",
        "For pixel values $p_{ij}^{(k)}$ at location $(i,j)$ of some image $I_k$,\n",
        "\n",
        "the mean $\\mu$ across all pixels over all images is $$\\mu=\\frac{1}{nhw}\\sum_{k=1}^n\\sum_{i=1}^{h}\\sum_{j=1}^{w}p_{ij}^{(k)}$$\n",
        "And the pixel-wise mean $\\mu_{ij}$ across all images is\n",
        "$$\\mu_{ij}=\\frac{1}{n}\\sum_{k=1}^np_{ij}^{(k)}.$$\n",
        "The general standard deviation $\\sigma$ and pixel-wise standard deviation $\\sigma_{ij}$ is defined similarly.\n",
        "\n",
        "Which of the following preprocessing steps will not change the performance of a Nearest Neighbor classifier that uses L1 distance? Select all that apply.\n",
        "1. Subtracting the mean $\\mu$ ($\\tilde{p}_{ij}^{(k)}=p_{ij}^{(k)}-\\mu$.)\n",
        "2. Subtracting the per pixel mean $\\mu_{ij}$  ($\\tilde{p}_{ij}^{(k)}=p_{ij}^{(k)}-\\mu_{ij}$.)\n",
        "3. Subtracting the mean $\\mu$ and dividing by the standard deviation $\\sigma$.\n",
        "4. Subtracting the pixel-wise mean $\\mu_{ij}$ and dividing by the pixel-wise standard deviation $\\sigma_{ij}$.\n",
        "5. Rotating the coordinate axes of the data.\n",
        "\n",
        "*Your Answer:*\n",
        "\n",
        "\n",
        "*Your Explanation:*\n",
        "\n"
      ]
    },
    {
      "cell_type": "markdown",
      "metadata": {
        "id": "rVM3uDjuVIZ4"
      },
      "source": [
        "## Question 3\n",
        "\n",
        "Which of the following statements about $k$-Nearest Neighbor ($k$-NN) are true in a classification setting, and for all $k$? Select all that apply.\n",
        "1. The decision boundary (hyperplane between classes in feature space) of the k-NN classifier is linear.\n",
        "2. The training error of a 1-NN will always be lower than that of 5-NN.\n",
        "3. The test error of a 1-NN will always be lower than that of a 5-NN.\n",
        "4. The time needed to classify a test example with the k-NN classifier grows with the size of the training set.\n",
        "5. None of the above.\n",
        "\n",
        "*Your Answer:*\n",
        "\n",
        "\n",
        "*Your Explanation:*\n",
        "\n",
        "\n"
      ]
    }
  ],
  "metadata": {
    "kernelspec": {
      "display_name": "mipt",
      "language": "python",
      "name": "mipt"
    },
    "language_info": {
      "codemirror_mode": {
        "name": "ipython",
        "version": 3
      },
      "file_extension": ".py",
      "mimetype": "text/x-python",
      "name": "python",
      "nbconvert_exporter": "python",
      "pygments_lexer": "ipython3",
      "version": "3.9.5"
    },
    "colab": {
      "provenance": [],
      "include_colab_link": true
    }
  },
  "nbformat": 4,
  "nbformat_minor": 0
}